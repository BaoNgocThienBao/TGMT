{
 "cells": [
  {
   "cell_type": "code",
   "execution_count": 21,
   "id": "b25b69c5-2c2e-4a2e-b7ef-71b10cc36a19",
   "metadata": {},
   "outputs": [],
   "source": [
    "import cv2\n",
    "import numpy as np\n",
    "from imgtools import display\n",
    "\n",
    "img = np.zeros((400,400,3),dtype=np.uint8)\n",
    "display('Image',img)\n",
    "\n",
    "cv2.line(img,(50,50),(350,50),(0,0,255),2)\n",
    "display('Image_L',img)\n",
    "\n",
    "cv2.circle(img,(100,100),50,(0,255,255),2)\n",
    "display('Image_C',img)\n",
    "\n",
    "cv2.rectangle(img, (150,100),(300,250), (255, 0, 113), -1)\n",
    "display('Image_REC', img)\n",
    "\n",
    "content = 'Trum Xe Bao'\n",
    "font = cv2.FONT_HERSHEY_SIMPLEX\n",
    "cv2.putText(img, content, (10, 380), font, 0.8, (255, 0, 255), 2)\n",
    "display('Image_Text', img)"
   ]
  },
  {
   "cell_type": "code",
   "execution_count": null,
   "id": "0a355e38-33dd-4478-a1af-a040ec95e942",
   "metadata": {},
   "outputs": [],
   "source": []
  }
 ],
 "metadata": {
  "kernelspec": {
   "display_name": "Python 3 (ipykernel)",
   "language": "python",
   "name": "python3"
  },
  "language_info": {
   "codemirror_mode": {
    "name": "ipython",
    "version": 3
   },
   "file_extension": ".py",
   "mimetype": "text/x-python",
   "name": "python",
   "nbconvert_exporter": "python",
   "pygments_lexer": "ipython3",
   "version": "3.12.4"
  },
  "panel-cell-order": [
   "188a2480-8d1c-420f-ae5a-4f1837e0e0e9"
  ]
 },
 "nbformat": 4,
 "nbformat_minor": 5
}

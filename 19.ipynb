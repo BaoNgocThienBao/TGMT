{
 "cells": [
  {
   "cell_type": "code",
   "execution_count": 2,
   "id": "78e8d9e2-59db-4c82-acec-3b18c8dac087",
   "metadata": {},
   "outputs": [
    {
     "name": "stdout",
     "output_type": "stream",
     "text": [
      "Requirement already satisfied: opencv-python in c:\\users\\admin\\anaconda3\\lib\\site-packages (4.10.0.84)\n",
      "Requirement already satisfied: numpy>=1.21.2 in c:\\users\\admin\\anaconda3\\lib\\site-packages (from opencv-python) (1.26.4)\n"
     ]
    }
   ],
   "source": [
    "!pip install opencv-python"
   ]
  },
  {
   "cell_type": "code",
   "execution_count": 23,
   "id": "a914e226-7b58-4235-bb14-def0764975d5",
   "metadata": {},
   "outputs": [
    {
     "name": "stdout",
     "output_type": "stream",
     "text": [
      "[[[ 76  51  35]\n",
      "  [ 71  46  30]\n",
      "  [ 72  47  31]\n",
      "  ...\n",
      "  [145 137 137]\n",
      "  [140 129 125]\n",
      "  [144 133 129]]\n",
      "\n",
      " [[ 76  51  35]\n",
      "  [ 71  46  30]\n",
      "  [ 72  47  31]\n",
      "  ...\n",
      "  [146 135 131]\n",
      "  [157 146 142]\n",
      "  [147 136 132]]\n",
      "\n",
      " [[ 78  53  37]\n",
      "  [ 72  47  31]\n",
      "  [ 72  46  30]\n",
      "  ...\n",
      "  [163 151 145]\n",
      "  [149 138 134]\n",
      "  [148 137 133]]\n",
      "\n",
      " ...\n",
      "\n",
      " [[ 91  74  72]\n",
      "  [ 93  74  69]\n",
      "  [ 94  74  70]\n",
      "  ...\n",
      "  [133 128 129]\n",
      "  [133 128 129]\n",
      "  [133 128 129]]\n",
      "\n",
      " [[ 91  74  71]\n",
      "  [ 90  73  70]\n",
      "  [ 89  71  68]\n",
      "  ...\n",
      "  [129 125 123]\n",
      "  [130 125 124]\n",
      "  [132 127 126]]\n",
      "\n",
      " [[ 88  71  68]\n",
      "  [ 88  71  68]\n",
      "  [ 87  69  66]\n",
      "  ...\n",
      "  [129 124 123]\n",
      "  [126 121 120]\n",
      "  [128 123 122]]]\n"
     ]
    }
   ],
   "source": [
    "import cv2\n",
    "from imgtools import display\n",
    "#Img3\n",
    "_Path3 = \"C:/Users/ADMIN/tgmt/image/hehe1.jpg\"\n",
    "img = cv2.imread(_Path3)\n",
    "img_r = cv2.resize(img, (300, 300))\n",
    "print(img_r)"
   ]
  },
  {
   "cell_type": "code",
   "execution_count": 25,
   "id": "173a9afb-effd-4d29-b535-dc416e39c2f4",
   "metadata": {},
   "outputs": [
    {
     "name": "stdout",
     "output_type": "stream",
     "text": [
      "(300, 300, 3)\n",
      "300\n",
      "300\n",
      "3\n"
     ]
    }
   ],
   "source": [
    "# Size\n",
    "print(img_r.shape)\n",
    "x, y, z = img_r.shape\n",
    "print(x)\n",
    "print(y)\n",
    "print(z)"
   ]
  },
  {
   "cell_type": "code",
   "execution_count": 29,
   "id": "df5edf76-cf22-48ec-8ad6-389122082230",
   "metadata": {},
   "outputs": [],
   "source": [
    "display(\"Gorgeous1\",img_r)"
   ]
  },
  {
   "cell_type": "code",
   "execution_count": 31,
   "id": "9c0da7e6-2886-4cde-a3ae-9d052eff54bf",
   "metadata": {},
   "outputs": [],
   "source": [
    "# Tách màu\n",
    "b, g, r = cv2.split(img_r)\n",
    "cv2.imshow('Window1', img_r)\n",
    "cv2.imshow('Red', r)\n",
    "cv2.imshow('Green', g)\n",
    "cv2.imshow('Blue', b)\n",
    "cv2.waitKey(0)\n",
    "cv2.destroyAllWindows()\n",
    "\n",
    "gray_img = cv2.cvtColor(img_r, cv2.COLOR_BGR2GRAY)\n",
    "img_2 = cv2.cvtColor(img_r, cv2.COLOR_BGR2RGB)\n",
    "cv2.imshow('Window1', img_r)\n",
    "cv2.imshow('gray_img2', gray_img)\n",
    "cv2.imshow('img_2', img_2)\n",
    "# Chờ một khoảng thời gian\n",
    "cv2.waitKey(0)\n",
    "# Đóng window\n",
    "cv2.destroyAllWindows()\n",
    "\n",
    "# Thay đổi thông số của điểm ảnh\n",
    "height, width, z = img_r.shape\n",
    "quarter_h = height/2\n",
    "quarter_w = width/2\n",
    "# geen color\n",
    "green_color = (0,0,255)\n",
    "img2 = img_r.copy()\n",
    "# thay đổi màu của góc 1/4 bên trái trên\n",
    "for y in range(int(quarter_h)):\n",
    "    for x in range(int(quarter_w)):\n",
    "        img2[y, x] = green_color\n",
    "# Hiển thị\n",
    "display('Window1', img_r)\n",
    "display('Window-2', img2)"
   ]
  },
  {
   "cell_type": "code",
   "execution_count": null,
   "id": "d06cbf2d-2dae-413e-84e7-b8694239a7cb",
   "metadata": {},
   "outputs": [],
   "source": []
  }
 ],
 "metadata": {
  "kernelspec": {
   "display_name": "Python 3 (ipykernel)",
   "language": "python",
   "name": "python3"
  },
  "language_info": {
   "codemirror_mode": {
    "name": "ipython",
    "version": 3
   },
   "file_extension": ".py",
   "mimetype": "text/x-python",
   "name": "python",
   "nbconvert_exporter": "python",
   "pygments_lexer": "ipython3",
   "version": "3.12.4"
  },
  "panel-cell-order": [
   "202fab8d-be0c-4e21-b490-f0d54830647f"
  ]
 },
 "nbformat": 4,
 "nbformat_minor": 5
}

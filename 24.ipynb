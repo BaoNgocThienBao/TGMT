{
 "cells": [
  {
   "cell_type": "code",
   "execution_count": 6,
   "id": "1d22b3de-7309-48c7-95eb-0570121bbcd1",
   "metadata": {},
   "outputs": [],
   "source": [
    "import cv2\n",
    "import time\n",
    "font = cv2.FONT_HERSHEY_SIMPLEX\n",
    "font_color = (255, 255, 255)\n",
    "font_scale = 2\n",
    "font_thicknes = 2\n",
    "\n",
    "camera = cv2.VideoCapture(0)\n",
    "cv2.namedWindow('Video Player', cv2.WINDOW_NORMAL)\n",
    "\n",
    "interval = 50\n",
    "count = 0\n",
    "while True:\n",
    "    # Đọc 1 frame\n",
    "    start_time=time.time()\n",
    "    ret, frame = camera.read()\n",
    "    count += 1\n",
    "    if(count%interval==0):\n",
    "        cv2.imwrite(f'./image/face_data/capture_{count}.jpg',frame)\n",
    "    \n",
    "    # Thoát khi không thể đọc được frame\n",
    "    if not ret:\n",
    "        break\n",
    "    end_time = time.time()\n",
    "    fps = 1/(end_time-start_time)\n",
    "    cv2.putText(frame, f'FPS: {fps:.2f}', (40, 40), font, font_scale, font_color , font_thicknes)\n",
    "    # Hiển thị\n",
    "    cv2.imshow('Video Player', frame)\n",
    "    \n",
    "    if(cv2.waitKey(10)==ord('q')):\n",
    "        break\n",
    "\n",
    "camera.release\n",
    "cv2.destroyAllWindows()"
   ]
  },
  {
   "cell_type": "code",
   "execution_count": null,
   "id": "6f468d98-25af-4cce-aff8-61869dda7c8b",
   "metadata": {},
   "outputs": [],
   "source": []
  }
 ],
 "metadata": {
  "kernelspec": {
   "display_name": "Python 3 (ipykernel)",
   "language": "python",
   "name": "python3"
  },
  "language_info": {
   "codemirror_mode": {
    "name": "ipython",
    "version": 3
   },
   "file_extension": ".py",
   "mimetype": "text/x-python",
   "name": "python",
   "nbconvert_exporter": "python",
   "pygments_lexer": "ipython3",
   "version": "3.12.4"
  },
  "panel-cell-order": [
   "202fab8d-be0c-4e21-b490-f0d54830647f"
  ]
 },
 "nbformat": 4,
 "nbformat_minor": 5
}

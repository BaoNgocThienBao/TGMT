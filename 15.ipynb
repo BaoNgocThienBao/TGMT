{
 "cells": [
  {
   "cell_type": "code",
   "execution_count": 27,
   "id": "202fab8d-be0c-4e21-b490-f0d54830647f",
   "metadata": {},
   "outputs": [
    {
     "name": "stdout",
     "output_type": "stream",
     "text": [
      "Ket qua ptrinh tinh tuyen:  [[ 3.25  4.  ]\n",
      " [-0.75 -1.  ]]\n",
      "========================\n",
      "Tich phan fx 3-6:  (69.0, 7.66053886991358e-13)\n",
      "========================\n",
      "Gia tri rieng:  [3.73205081+0.j 0.26794919+0.j]\n",
      "Vector rieng:  [[ 0.5       -0.5      ]\n",
      " [ 0.8660254  0.8660254]]\n"
     ]
    }
   ],
   "source": [
    "from scipy import linalg\n",
    "import numpy as np\n",
    "\n",
    "#Ptrinh tinh tuyen\n",
    "A = np.array([[2, 6],[3, 5]])\n",
    "B = np.array([[2,2],[6,7]])\n",
    "\n",
    "# Giai ptrinh tinh tuyen\n",
    "x = linalg.solve(A, B)\n",
    "print(\"Ket qua ptrinh tinh tuyen: \", x)\n",
    "print(\"========================\")\n",
    "\n",
    "#tinh tich phan cua 1 ham so\n",
    "from scipy import integrate\n",
    "# Định nghĩa hàm f(x) = x^2\n",
    "def my_function(x):\n",
    "    return (x**2+2)\n",
    "\n",
    "# Tính tích phân của f(x) từ 0 đến 1\n",
    "integral = integrate.quad(my_function, 3, 6);\n",
    "print(\"Tich phan fx 3-6: \", integral)\n",
    "print(\"========================\")\n",
    "\n",
    "# Tính giá trị riêng và vector riêng của một ma trận:\n",
    "from scipy import linalg\n",
    "#Vector A\n",
    "A = np.array([[2,1], [3,2]])\n",
    "# Tính giá trị riêng và vector riêng của ma trận\n",
    "evals, evecs = linalg.eig(A)\n",
    "#Print ket qua\n",
    "print(\"Gia tri rieng: \", evals)\n",
    "print(\"Vector rieng: \", evecs)"
   ]
  },
  {
   "cell_type": "code",
   "execution_count": null,
   "id": "c444af60-98d8-4de6-9779-c75eaade4860",
   "metadata": {},
   "outputs": [],
   "source": []
  }
 ],
 "metadata": {
  "kernelspec": {
   "display_name": "Python 3 (ipykernel)",
   "language": "python",
   "name": "python3"
  },
  "language_info": {
   "codemirror_mode": {
    "name": "ipython",
    "version": 3
   },
   "file_extension": ".py",
   "mimetype": "text/x-python",
   "name": "python",
   "nbconvert_exporter": "python",
   "pygments_lexer": "ipython3",
   "version": "3.12.4"
  },
  "panel-cell-order": [
   "f76b156e-29b1-4001-a472-11885854bd30"
  ]
 },
 "nbformat": 4,
 "nbformat_minor": 5
}

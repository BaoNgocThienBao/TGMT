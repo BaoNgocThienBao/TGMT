{
 "cells": [
  {
   "cell_type": "code",
   "execution_count": 27,
   "id": "960e866f-1a43-49f6-8352-a102f7f1865c",
   "metadata": {},
   "outputs": [
    {
     "name": "stdout",
     "output_type": "stream",
     "text": [
      "[1 2 3]\n",
      "2\n",
      "Matrix : \n",
      "[[1 2 3]\n",
      " [4 5 6]\n",
      " [7 8 9]]\n",
      "6\n",
      "[0. 0. 0. 0. 0.]\n",
      "[1. 1. 1. 1. 1.]\n",
      "[ 0  1  2  3  4  5  6  7  8  9 10 11 12 13 14 15 16 17 18 19 20 21 22 23\n",
      " 24 25 26 27 28 29 30 31 32 33 34 35 36 37 38 39 40 41 42 43 44 45 46 47\n",
      " 48 49 50 51 52 53 54 55 56 57 58 59 60 61 62 63 64 65 66 67 68 69 70 71\n",
      " 72 73 74 75 76 77 78 79 80 81 82 83 84 85 86 87 88 89 90 91 92 93 94 95\n",
      " 96 97 98 99]\n",
      "[ 0.   2.5  5.   7.5 10. ]\n"
     ]
    },
    {
     "data": {
      "text/plain": [
       "array([1, 1, 1, 1, 1], dtype=int64)"
      ]
     },
     "execution_count": 27,
     "metadata": {},
     "output_type": "execute_result"
    }
   ],
   "source": [
    "import numpy as np\n",
    "\n",
    "#Create array\n",
    "A= np.array([1,2,3])\n",
    "print(A)\n",
    "#Print 1 element\n",
    "element=A[1]\n",
    "print(element)\n",
    "\n",
    "# Create 2nd dim array\n",
    "matrix =np.array([[1,2,3],[4,5,6],[7,8,9]])\n",
    "print(\"Matrix : \")\n",
    "print(matrix)\n",
    "#print element\n",
    "element=matrix[1,2]\n",
    "print(element)\n",
    "\n",
    "#Create Array\n",
    "#Array full of 0\n",
    "a=np.zeros(5)\n",
    "print(a)\n",
    "\n",
    "#Array full of 1\n",
    "a=np.ones(5)\n",
    "print(a)\n",
    "\n",
    "#Array from 0 - 100\n",
    "a=np.arange(100)\n",
    "print(a)\n",
    "\n",
    "#Array include elements with equal linspace\n",
    "a = np.linspace(0,10,num=5)\n",
    "print(a)\n",
    "\n",
    "#Determine data type\n",
    "a = np.ones(5,dtype=np.int64)\n",
    "a"
   ]
  },
  {
   "cell_type": "code",
   "execution_count": 35,
   "id": "cbf0fd56-dc06-42da-86b1-bbf5d1b81d1a",
   "metadata": {},
   "outputs": [
    {
     "name": "stdout",
     "output_type": "stream",
     "text": [
      "[5 2 1 9 6]\n",
      "[1 2 5 6 9]\n",
      "[9 6 5 2 1]\n",
      "[  9   6   5   2   1 100]\n",
      "[  9   6   5   1 100]\n"
     ]
    }
   ],
   "source": [
    "#Create 1 way array\n",
    "arr= np.array([5,2,1,9,6])\n",
    "print(arr)\n",
    "\n",
    "#Arrange\n",
    "arr=np.sort(arr)\n",
    "print(arr)\n",
    "\n",
    "#Opposite Arrange\n",
    "arr = np.sort(arr)[::-1]\n",
    "print(arr)\n",
    "\n",
    "#Add elements to array\n",
    "arr = np.append(arr,100)\n",
    "print(arr)\n",
    "\n",
    "# Delete a specific order in Array\n",
    "arr = np.delete(arr,3)\n",
    "print(arr)"
   ]
  },
  {
   "cell_type": "code",
   "execution_count": 49,
   "id": "fb816217-9890-4b59-9200-48e592b2ad3b",
   "metadata": {},
   "outputs": [
    {
     "name": "stdout",
     "output_type": "stream",
     "text": [
      "[[ 2  3 11]\n",
      " [ 1  3  6]\n",
      " [ 2  7  9]]\n",
      "[[ 3  1  2]\n",
      " [ 3  2  6]\n",
      " [ 7 11  9]]\n",
      "==================\n",
      "[[-11  -3  -2]\n",
      " [ -6  -3  -1]\n",
      " [ -9  -7  -2]]\n",
      "[[ -7 -11  -9]\n",
      " [ -3  -2  -6]\n",
      " [ -3  -1  -2]]\n"
     ]
    }
   ],
   "source": [
    "#Create 2nd dim array\n",
    "arr_2nd =np.array([\n",
    "    [3,11,2],\n",
    "    [3,1,6],\n",
    "    [7,2,9]])\n",
    "\n",
    "#Increasing\n",
    "#Row arrange\n",
    "Row_arr=np.sort(arr_2nd,axis=1) \n",
    "print(Row_arr)\n",
    "#column arrange\n",
    "Com_arr=np.sort(arr_2nd,axis=0)\n",
    "print(Com_arr)\n",
    "\n",
    "print('==================')\n",
    "#Decreasing\n",
    "#Row arrange\n",
    "Row_arr=np.sort(-arr_2nd,axis=1) \n",
    "print(Row_arr)\n",
    "#column arrange\n",
    "Com_arr=np.sort(-arr_2nd,axis=0)\n",
    "print(Com_arr)"
   ]
  },
  {
   "cell_type": "code",
   "execution_count": 53,
   "id": "544a9b6a-3ff0-45ba-b9e0-d554644ea439",
   "metadata": {},
   "outputs": [
    {
     "name": "stdout",
     "output_type": "stream",
     "text": [
      "Dimesions :  2\n",
      "Size :  6\n",
      "Shape :  (2, 3)\n",
      "[5. 2. 1. 9. 6.]\n"
     ]
    }
   ],
   "source": [
    "#Create 2nd dim array\n",
    "arr_2nd =np.array([\n",
    "    [3,11,2],\n",
    "    [3,1,6]])\n",
    "dim=arr_2nd.ndim #Quantity of array's dim\n",
    "size=arr_2nd.size #Size of array(element counts)\n",
    "shape=arr_2nd.shape # Shape of the array/matrix\n",
    "print(\"Dimesions : \",dim)\n",
    "print(\"Size : \",size)\n",
    "print(\"Shape : \",shape)"
   ]
  },
  {
   "cell_type": "code",
   "execution_count": 61,
   "id": "f27415f3-c946-43bd-93fa-225c76f95441",
   "metadata": {},
   "outputs": [
    {
     "name": "stdout",
     "output_type": "stream",
     "text": [
      "[5. 2. 1. 9. 6.]\n",
      "====================\n",
      "[[5 2 1]\n",
      " [9 6 8]]\n",
      "[[5 2]\n",
      " [1 9]\n",
      " [6 8]]\n",
      "[5 2 1 9 6 8]\n",
      "====================\n"
     ]
    }
   ],
   "source": [
    "#Change datatype\n",
    "arr= np.array([5,2,1,9,6])\n",
    "arr_float=arr.astype(float) \n",
    "print(arr_float)\n",
    "print('====================')\n",
    "\n",
    "#Change the shape of matrix/array\n",
    "arr= np.array([5,2,1,9,6,8])\n",
    "rs_arr=arr.reshape(2,3)\n",
    "print(rs_arr)\n",
    "rs_arr=arr.reshape(3,2)\n",
    "print(rs_arr)\n",
    "rs_arr=rs_arr.flatten() # Change to 1 dim array\n",
    "print(rs_arr)"
   ]
  },
  {
   "cell_type": "code",
   "execution_count": 81,
   "id": "17d4ab5d-7ea1-4d6c-814c-542acc920196",
   "metadata": {},
   "outputs": [
    {
     "name": "stdout",
     "output_type": "stream",
     "text": [
      "[2 1 9]\n",
      "====================\n",
      "[5 2 1 9 6]\n",
      "====================\n",
      "[6 8]\n"
     ]
    }
   ],
   "source": [
    "#Slice array\n",
    "arr = np.array([5,2,1,9,6,8])\n",
    "sub_arr=arr[1:4] #Cut order 1-4 in array\n",
    "print(sub_arr)\n",
    "print('====================')\n",
    "sub_arr=arr[:-1] # Cut the last element of array\n",
    "print(sub_arr)\n",
    "print('====================')\n",
    "sub_arr=arr[-2:] # Take the last 2 elements of array\n",
    "print(sub_arr)"
   ]
  },
  {
   "cell_type": "code",
   "execution_count": 87,
   "id": "d622777a-ac70-48cd-880b-740bfe86b3fb",
   "metadata": {},
   "outputs": [
    {
     "name": "stdout",
     "output_type": "stream",
     "text": [
      "[[ 3  3]\n",
      " [11  1]\n",
      " [ 2  6]]\n",
      "====================\n",
      "[5 2 1 9 6 8]\n"
     ]
    }
   ],
   "source": [
    "#Create 2nd dim array\n",
    "arr_2nd =np.array([\n",
    "    [3,11,2],\n",
    "    [3,1,6]])\n",
    "trans_arr=arr_2nd.T #can use array.T or numpy.transpose()\n",
    "print(trans_arr)\n",
    "print('====================')\n",
    "\n",
    "#Link arrays\n",
    "arr1 = np.array([5,2,1])\n",
    "arr2 = np.array([9,6,8])\n",
    "arr=np.concatenate((arr1,arr2))\n",
    "print(arr)"
   ]
  },
  {
   "cell_type": "code",
   "execution_count": 101,
   "id": "faec38a0-414e-46a7-90dd-67374d456251",
   "metadata": {},
   "outputs": [
    {
     "name": "stdout",
     "output_type": "stream",
     "text": [
      "Total:  31\n",
      "====================\n",
      "Avarage :  5.166666666666667\n",
      "====================\n",
      "Max :  9\n",
      "Min :  1\n",
      "====================\n",
      "Std deviation :  2.9107081994288304\n",
      "====================\n",
      "Variance :  8.472222222222223\n",
      "====================\n",
      "Dot product of arr1 and arr2 :  65\n"
     ]
    }
   ],
   "source": [
    "#Sum math\n",
    "#Use numpy.sum() to sum elements in array\n",
    "arr = np.array([5,2,1,9,6,8])\n",
    "total = np.sum(arr)\n",
    "print('Total: ',total)\n",
    "print('====================')\n",
    "\n",
    "#Avarage math\n",
    "#Use numpy.mean() to calc avarage value of elements in array\n",
    "avr=np.mean(arr)\n",
    "print('Avarage : ',avr)\n",
    "print('====================')\n",
    "\n",
    "#Max and min method\n",
    "#Use numpy.max() and numpy.min() to \n",
    "#find out max and min value of elements of the array/matrix\n",
    "max=np.max(arr)\n",
    "min=np.min(arr)\n",
    "print('Max : ',max)\n",
    "print('Min : ',min)\n",
    "print('====================')\n",
    "\n",
    "#Deviation calc\n",
    "#Use numpy.std() to calc std deviation of array/matrix,calc degree of data dispersion\n",
    "std = np.std(arr)\n",
    "print('Std deviation : ',std)\n",
    "print('====================')\n",
    "\n",
    "#Variance calc\n",
    "#Use numpy.var() to calc Variance of array,calc the degree of variability of the data\n",
    "var = np.var(arr)\n",
    "print('Variance : ',var)\n",
    "print('====================')\n",
    "\n",
    "#Dot product calc\n",
    "#Use numpy.dot() to calc convolutional sum of two arrays\n",
    "arr1 = np.array([5,2,1])\n",
    "arr2 = np.array([9,6,8])\n",
    "dot = np.dot(arr1,arr2)\n",
    "print('Dot product of arr1 and arr2 : ',dot)"
   ]
  },
  {
   "cell_type": "code",
   "execution_count": null,
   "id": "686fd447-e31d-4f06-b6bf-763db7c2bd26",
   "metadata": {},
   "outputs": [],
   "source": []
  }
 ],
 "metadata": {
  "kernelspec": {
   "display_name": "Python 3 (ipykernel)",
   "language": "python",
   "name": "python3"
  },
  "language_info": {
   "codemirror_mode": {
    "name": "ipython",
    "version": 3
   },
   "file_extension": ".py",
   "mimetype": "text/x-python",
   "name": "python",
   "nbconvert_exporter": "python",
   "pygments_lexer": "ipython3",
   "version": "3.12.4"
  },
  "panel-cell-order": [
   "f76b156e-29b1-4001-a472-11885854bd30"
  ]
 },
 "nbformat": 4,
 "nbformat_minor": 5
}

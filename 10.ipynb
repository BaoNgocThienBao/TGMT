{
 "cells": [
  {
   "cell_type": "code",
   "execution_count": 6,
   "id": "021f250b-8a17-4a97-9e5a-be16e3e1780b",
   "metadata": {},
   "outputs": [
    {
     "name": "stdout",
     "output_type": "stream",
     "text": [
      "[(705.5645161290322, 519.8709677419354), (792.2741935483871, 547.7419354838709), (913.0483870967741, 557.032258064516), (1015.241935483871, 535.3548387096773), (1089.5645161290322, 544.6451612903224)]\n"
     ]
    }
   ],
   "source": [
    "import matplotlib as mpl\n",
    "import matplotlib.pyplot as plt\n",
    "from PIL import Image\n",
    "\n",
    "#Path\n",
    "img_dir = 'C:/Users/ADMIN/tgmt/image/hehe1.jpg'\n",
    "\n",
    "#Read Image\n",
    "Rim = Image.open(img_dir)\n",
    "\n",
    "#Switch to Backend\n",
    "plt.switch_backend('tkagg')\n",
    "\n",
    "#Show img\n",
    "plt.imshow(Rim)\n",
    "plt.title('Click on the picture to select points')\n",
    "\n",
    "#Use \"Input\" to choose points on Img\n",
    "points=plt.ginput(5)\n",
    "\n",
    "print(points)\n",
    "\n",
    "#Show\n",
    "plt.show()\n",
    "\n",
    "#Redraw picked points = red \"+\"\n",
    "plt.close('all')\n",
    "\n",
    "#Redraw\n",
    "plt.imshow(Rim)\n",
    "for point in points:\n",
    "    x,y = point\n",
    "    plt.plot(x,y, 'r*')\n",
    "\n",
    "plt.show()"
   ]
  },
  {
   "cell_type": "code",
   "execution_count": null,
   "id": "142893c4-6eb9-4ba2-9d38-61d0bcae5182",
   "metadata": {},
   "outputs": [],
   "source": []
  }
 ],
 "metadata": {
  "kernelspec": {
   "display_name": "Python 3 (ipykernel)",
   "language": "python",
   "name": "python3"
  },
  "language_info": {
   "codemirror_mode": {
    "name": "ipython",
    "version": 3
   },
   "file_extension": ".py",
   "mimetype": "text/x-python",
   "name": "python",
   "nbconvert_exporter": "python",
   "pygments_lexer": "ipython3",
   "version": "3.12.4"
  },
  "panel-cell-order": [
   "f76b156e-29b1-4001-a472-11885854bd30"
  ]
 },
 "nbformat": 4,
 "nbformat_minor": 5
}
